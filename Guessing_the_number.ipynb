{
  "nbformat": 4,
  "nbformat_minor": 0,
  "metadata": {
    "colab": {
      "provenance": [],
      "authorship_tag": "ABX9TyP9tAYhC35Ss3NOFfGWPhCa",
      "include_colab_link": true
    },
    "kernelspec": {
      "name": "python3",
      "display_name": "Python 3"
    },
    "language_info": {
      "name": "python"
    }
  },
  "cells": [
    {
      "cell_type": "markdown",
      "metadata": {
        "id": "view-in-github",
        "colab_type": "text"
      },
      "source": [
        "<a href=\"https://colab.research.google.com/github/Punitkataria/notebooks/blob/main/Guessing_the_number.ipynb\" target=\"_parent\"><img src=\"https://colab.research.google.com/assets/colab-badge.svg\" alt=\"Open In Colab\"/></a>"
      ]
    },
    {
      "cell_type": "code",
      "execution_count": 1,
      "metadata": {
        "id": "dKSOiMzasNn2"
      },
      "outputs": [],
      "source": [
        "import random"
      ]
    },
    {
      "cell_type": "code",
      "source": [
        "true_number = random.randint(1,100)\n"
      ],
      "metadata": {
        "id": "qd90U-3asVsX"
      },
      "execution_count": 12,
      "outputs": []
    },
    {
      "cell_type": "code",
      "source": [
        "guess_number = int(input(\"Enter your guess between 1 and 100: \"))\n",
        "while True:\n",
        "  if guess_number == true_number:\n",
        "    print(\"You are right! GOOD JOB\")\n",
        "    break\n",
        "  elif guess_number < true_number:\n",
        "    print(\"Your guess is low, please try again\")\n",
        "    guess_number = int(input(\"Enter your guess between 1 and 100: \"))\n",
        "  elif guess_number > true_number:\n",
        "    print(\"Your guess number is high, please try again\")\n",
        "    guess_number = int(input(\"Enter your guess between 1 and 100: \"))"
      ],
      "metadata": {
        "colab": {
          "base_uri": "https://localhost:8080/"
        },
        "id": "EEv6cGeFswbX",
        "outputId": "7c9f0a63-f983-4013-fdf8-d4018fbc26be"
      },
      "execution_count": 11,
      "outputs": [
        {
          "output_type": "stream",
          "name": "stdout",
          "text": [
            "Enter your guess between 1 and 100: 99\n",
            "Your guess number is high, please try again\n",
            "Enter your guess between 1 and 100: 55\n",
            "Your guess is low, please try again\n",
            "Enter your guess between 1 and 100: 56\n",
            "Your guess is low, please try again\n",
            "Enter your guess between 1 and 100: 88\n",
            "Your guess number is high, please try again\n",
            "Enter your guess between 1 and 100: 70\n",
            "Your guess number is high, please try again\n",
            "Enter your guess between 1 and 100: 60\n",
            "Your guess number is high, please try again\n",
            "Enter your guess between 1 and 100: 59\n",
            "Your guess number is high, please try again\n",
            "Enter your guess between 1 and 100: 58\n",
            "Your guess number is high, please try again\n",
            "Enter your guess between 1 and 100: 55\n",
            "Your guess is low, please try again\n",
            "Enter your guess between 1 and 100: 57\n",
            "You are right! GOOD JOB\n"
          ]
        }
      ]
    }
  ]
}